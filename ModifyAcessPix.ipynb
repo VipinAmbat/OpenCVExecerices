{
 "cells": [
  {
   "cell_type": "code",
   "execution_count": 2,
   "id": "36524541",
   "metadata": {},
   "outputs": [],
   "source": [
    "import numpy as np\n",
    "\n",
    "import cv2"
   ]
  },
  {
   "cell_type": "code",
   "execution_count": 3,
   "id": "880baffe",
   "metadata": {},
   "outputs": [],
   "source": [
    "img=cv2.imread('Fordcar.png') # read the image"
   ]
  },
  {
   "cell_type": "code",
   "execution_count": 4,
   "id": "25f3e4ca",
   "metadata": {},
   "outputs": [],
   "source": [
    "px = img[100,100]"
   ]
  },
  {
   "cell_type": "code",
   "execution_count": 5,
   "id": "356d452c",
   "metadata": {},
   "outputs": [
    {
     "name": "stdout",
     "output_type": "stream",
     "text": [
      "[243 247 248]\n"
     ]
    }
   ],
   "source": [
    "print(px) # print the pixel from 100 row and 100 col"
   ]
  },
  {
   "cell_type": "code",
   "execution_count": 8,
   "id": "7e4b3767",
   "metadata": {},
   "outputs": [
    {
     "name": "stdout",
     "output_type": "stream",
     "text": [
      "243\n"
     ]
    }
   ],
   "source": [
    "# Access the Blue pixel\n",
    "\n",
    "blue = img[100,100,0]\n",
    "\n",
    "print(blue) # print the blue pixel"
   ]
  },
  {
   "cell_type": "code",
   "execution_count": 11,
   "id": "c154b123",
   "metadata": {},
   "outputs": [
    {
     "name": "stdout",
     "output_type": "stream",
     "text": [
      "[255 255 255]\n"
     ]
    }
   ],
   "source": [
    "# Modify the pixel\n",
    "\n",
    "img[100,100] = [255,255,255]\n",
    "\n",
    "print(img[100,100])"
   ]
  },
  {
   "cell_type": "code",
   "execution_count": null,
   "id": "23c806c0",
   "metadata": {},
   "outputs": [],
   "source": []
  }
 ],
 "metadata": {
  "kernelspec": {
   "display_name": "Python 3",
   "language": "python",
   "name": "python3"
  },
  "language_info": {
   "codemirror_mode": {
    "name": "ipython",
    "version": 3
   },
   "file_extension": ".py",
   "mimetype": "text/x-python",
   "name": "python",
   "nbconvert_exporter": "python",
   "pygments_lexer": "ipython3",
   "version": "3.8.8"
  }
 },
 "nbformat": 4,
 "nbformat_minor": 5
}
